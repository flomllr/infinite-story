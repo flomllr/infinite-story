{
 "cells": [
  {
   "cell_type": "code",
   "execution_count": 4,
   "metadata": {},
   "outputs": [],
   "source": [
    "import spacy"
   ]
  },
  {
   "cell_type": "code",
   "execution_count": 5,
   "metadata": {},
   "outputs": [],
   "source": [
    "# !python -m spacy download en_core_web_lg"
   ]
  },
  {
   "cell_type": "code",
   "execution_count": 6,
   "metadata": {},
   "outputs": [],
   "source": [
    "nlp = spacy.load('en_core_web_lg')"
   ]
  },
  {
   "cell_type": "code",
   "execution_count": 7,
   "metadata": {},
   "outputs": [],
   "source": [
    "quote_matcher = Matcher(nlp.vocab)\n",
    "quote_matcher.add('QUOTED', None, [{'ORTH': \"'\"}, {'IS_ALPHA': True, 'OP': '+'}, {'ORTH': \"'\"}])\n",
    "def quote_merger(doc):\n",
    "    # this will be called on the Doc object in the pipeline\n",
    "    matched_spans = []\n",
    "    matches = quote_matcher(doc)\n",
    "    for match_id, start, end in matches:\n",
    "        span = doc[start:end]\n",
    "        matched_spans.append(span)\n",
    "    for span in matched_spans:  # merge into one token after collecting all matches\n",
    "        span.merge()\n",
    "    return doc\n",
    "\n",
    "nlp.add_pipe(quote_merger, first=True)"
   ]
  },
  {
   "cell_type": "code",
   "execution_count": 163,
   "metadata": {},
   "outputs": [],
   "source": [
    "TEXTS = [\n",
    "#     \"You are Justin, a knight living in the kingdom of Izir. You have a steel longsword and a wooden shield. You are on a quest to defeat the evil dragon of Izir. You've heard he lives up at the north of the kingdom. You set on the path to defeat him and walk into a dark forest.\",\n",
    "#      \"You quickly grab your dagger and rush outside to meet your attackers. The first thing you notice is how many there are. They're all dead now though, so it must be a mistake. You head back inside and find that your servant has been killed\",\n",
    "#      \"You are Justin, a knight living in the kingdom of Izir. You have a steel longsword and a wooden shield. You are on a quest to defeat the evil dragon of Izir. You've heard he lives up at the north of the kingdom. You do not set on the path to defeat him and do not walk into a dark jail.\",\n",
    "#      \"You said \\\"You go to a forest\\\"\",\n",
    "#     \"You continue to climb up the mountain until you reach a steep hill\",\n",
    "#     \"Instead you walk through the gate and into the town of Castle Krakowice\",\n",
    "#     \"You run back into the forest\",\n",
    "#     \"You return to the forest\",\n",
    "#     \"When you arrive at the keep\",\n",
    "    \"You decide to head back to the forest\"\n",
    "]"
   ]
  },
  {
   "cell_type": "code",
   "execution_count": 164,
   "metadata": {},
   "outputs": [],
   "source": [
    "# Quick experimentation to see if I can find stuff location\n",
    "LOCATIONS = [\"outside\", \"forest\", \"jail\", \"mountain\", \"town\", \"village\", \"keep\"]\n",
    "VERBS = [\"rush\", \"go\", \"enter\", \"ride\", \"arrive\", \"reach\", \"walk\", \"visit\", \"climb\", \"run\", \"return\", \"head\"]\n",
    "PREPOSITIONS = [\"to\", \"into\", \"across\", \"through\", \"over\", \"up\", \"back\", \"at\"]\n",
    "patterns = [ [{\"LEMMA\": x}] for x in LOCATIONS]"
   ]
  },
  {
   "cell_type": "code",
   "execution_count": 165,
   "metadata": {},
   "outputs": [],
   "source": [
    "from spacy.matcher import Matcher\n",
    "matcher = Matcher(nlp.vocab)"
   ]
  },
  {
   "cell_type": "code",
   "execution_count": 166,
   "metadata": {},
   "outputs": [],
   "source": [
    "matcher.add(\"LOCATION\", None, *patterns)"
   ]
  },
  {
   "cell_type": "code",
   "execution_count": 167,
   "metadata": {},
   "outputs": [],
   "source": [
    "def recursive_subject_search(head, subject):\n",
    "    is_you = False\n",
    "    subjs = [t for t in head.children if t.dep_ == \"nsubj\"]\n",
    "    if len(subjs) == 0:\n",
    "        while len(subjs) is 0:\n",
    "            head = head.head\n",
    "            subjs = [t for t in head.children if t.dep_ == \"nsubj\"]\n",
    "            if  head.head == head:\n",
    "                break\n",
    "    if subject in [s.text.lower() for s in subjs]:\n",
    "        return True"
   ]
  },
  {
   "cell_type": "code",
   "execution_count": 168,
   "metadata": {},
   "outputs": [],
   "source": [
    "def check_negation(head):\n",
    "    negations = [t for t in head.children if t.dep_ == \"neg\"]\n",
    "    return len(negations) > 0"
   ]
  },
  {
   "cell_type": "code",
   "execution_count": 169,
   "metadata": {
    "scrolled": true
   },
   "outputs": [
    {
     "name": "stdout",
     "output_type": "stream",
     "text": [
      "to\n",
      "Locations for doc 1:  ['forest']\n"
     ]
    }
   ],
   "source": [
    "for i, t in enumerate(TEXTS):\n",
    "    doc = nlp(t)\n",
    "    matches = matcher(doc)\n",
    "    locations = []\n",
    "    for m, start, end in matches:\n",
    "        span = doc[start:end]\n",
    "        root = span.root\n",
    "        if root.head.pos_ == \"VERB\" and root.head.lemma_ in VERBS:\n",
    "            # Direct child of the verb easy\n",
    "            head = root.head\n",
    "            # check for negations\n",
    "            if not check_negation(head):\n",
    "                # now need to check if it's \"you\"\n",
    "                if recursive_subject_search(head, \"you\"):\n",
    "                    print(head.tag_)\n",
    "                    locations.append(span.root.lemma_)\n",
    "        elif root.dep_ in [\"pobj\"]:\n",
    "            # into, through, acros <Location>\n",
    "            preposition = root.head\n",
    "            print(preposition)\n",
    "            if preposition.text in PREPOSITIONS:\n",
    "                # it's one of those!\n",
    "                # get the verb (hopefully)\n",
    "                head = preposition.head\n",
    "#                 print(head.dep_)\n",
    "                if head.pos_ == \"VERB\" and head.lemma_ in VERBS:\n",
    "                    if not check_negation(head):\n",
    "                        if recursive_subject_search(head, \"you\"):\n",
    "                            locations.append(span.root.lemma_)\n",
    "                elif (head.dep_ == \"prep\" or head.dep_ == \"advmod\") and head.text in PREPOSITIONS:\n",
    "                    head = head.head\n",
    "                    if head.pos_ == \"VERB\" and head.lemma_ in VERBS:\n",
    "                        if not check_negation(head):\n",
    "                            if recursive_subject_search(head, \"you\"):\n",
    "                                locations.append(span.root.lemma_)\n",
    "                \n",
    "    print(f\"Locations for doc {i+1}: \", locations)\n",
    "            "
   ]
  },
  {
   "cell_type": "code",
   "execution_count": 182,
   "metadata": {},
   "outputs": [],
   "source": [
    "doc = nlp(\"You set on the path to defeat him and walk into a dark forest.\")\n",
    "tok = [token for token in doc if token.dep_ == 'nsubj']"
   ]
  },
  {
   "cell_type": "code",
   "execution_count": 183,
   "metadata": {},
   "outputs": [],
   "source": [
    "t = tok[0]"
   ]
  },
  {
   "cell_type": "code",
   "execution_count": 184,
   "metadata": {},
   "outputs": [
    {
     "data": {
      "text/plain": [
       "[to, him, and, walk]"
      ]
     },
     "execution_count": 184,
     "metadata": {},
     "output_type": "execute_result"
    }
   ],
   "source": [
    "list(list(t.head.children)[2].children)"
   ]
  },
  {
   "cell_type": "code",
   "execution_count": 48,
   "metadata": {},
   "outputs": [
    {
     "data": {
      "text/plain": [
       "True"
      ]
     },
     "execution_count": 48,
     "metadata": {},
     "output_type": "execute_result"
    }
   ],
   "source": [
    "t.head == t.head.head"
   ]
  },
  {
   "cell_type": "code",
   "execution_count": null,
   "metadata": {},
   "outputs": [],
   "source": []
  }
 ],
 "metadata": {
  "kernelspec": {
   "display_name": "Python 3",
   "language": "python",
   "name": "python3"
  },
  "language_info": {
   "codemirror_mode": {
    "name": "ipython",
    "version": 3
   },
   "file_extension": ".py",
   "mimetype": "text/x-python",
   "name": "python",
   "nbconvert_exporter": "python",
   "pygments_lexer": "ipython3",
   "version": "3.7.5"
  }
 },
 "nbformat": 4,
 "nbformat_minor": 2
}
