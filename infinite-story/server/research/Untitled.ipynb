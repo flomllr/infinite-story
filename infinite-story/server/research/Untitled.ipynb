{
 "cells": [
  {
   "cell_type": "code",
   "execution_count": 170,
   "metadata": {},
   "outputs": [],
   "source": [
    "import spacy"
   ]
  },
  {
   "cell_type": "code",
   "execution_count": 173,
   "metadata": {},
   "outputs": [
    {
     "name": "stdout",
     "output_type": "stream",
     "text": [
      "Collecting en_core_web_lg==2.2.5\n",
      "\u001b[?25l  Downloading https://github.com/explosion/spacy-models/releases/download/en_core_web_lg-2.2.5/en_core_web_lg-2.2.5.tar.gz (827.9MB)\n",
      "\u001b[K     |████████████████████████████████| 827.9MB 13.1MB/s eta 0:00:01    |█▊                              | 44.2MB 2.7MB/s eta 0:04:49     |█▊                              | 44.3MB 2.7MB/s eta 0:04:49     |█████████▍                      | 242.3MB 37.2MB/s eta 0:00:16     |████████████▌                   | 322.4MB 3.0MB/s eta 0:02:48     |████████████▋                   | 325.5MB 8.4MB/s eta 0:01:01     |█████████████████               | 442.3MB 2.0MB/s eta 0:03:14     |██████████████████████████▌     | 686.3MB 5.7MB/s eta 0:00:25\n",
      "\u001b[?25hRequirement already satisfied: spacy>=2.2.2 in /Users/justinglibert/.local/share/virtualenvs/server-cczRqbdX/lib/python3.7/site-packages (from en_core_web_lg==2.2.5) (2.2.3)\n",
      "Requirement already satisfied: cymem<2.1.0,>=2.0.2 in /Users/justinglibert/.local/share/virtualenvs/server-cczRqbdX/lib/python3.7/site-packages (from spacy>=2.2.2->en_core_web_lg==2.2.5) (2.0.3)\n",
      "Requirement already satisfied: blis<0.5.0,>=0.4.0 in /Users/justinglibert/.local/share/virtualenvs/server-cczRqbdX/lib/python3.7/site-packages (from spacy>=2.2.2->en_core_web_lg==2.2.5) (0.4.1)\n",
      "Requirement already satisfied: plac<1.2.0,>=0.9.6 in /Users/justinglibert/.local/share/virtualenvs/server-cczRqbdX/lib/python3.7/site-packages (from spacy>=2.2.2->en_core_web_lg==2.2.5) (1.1.3)\n",
      "Requirement already satisfied: srsly<1.1.0,>=0.1.0 in /Users/justinglibert/.local/share/virtualenvs/server-cczRqbdX/lib/python3.7/site-packages (from spacy>=2.2.2->en_core_web_lg==2.2.5) (0.2.0)\n",
      "Requirement already satisfied: preshed<3.1.0,>=3.0.2 in /Users/justinglibert/.local/share/virtualenvs/server-cczRqbdX/lib/python3.7/site-packages (from spacy>=2.2.2->en_core_web_lg==2.2.5) (3.0.2)\n",
      "Requirement already satisfied: murmurhash<1.1.0,>=0.28.0 in /Users/justinglibert/.local/share/virtualenvs/server-cczRqbdX/lib/python3.7/site-packages (from spacy>=2.2.2->en_core_web_lg==2.2.5) (1.0.2)\n",
      "Requirement already satisfied: setuptools in /Users/justinglibert/.local/share/virtualenvs/server-cczRqbdX/lib/python3.7/site-packages (from spacy>=2.2.2->en_core_web_lg==2.2.5) (42.0.2)\n",
      "Requirement already satisfied: numpy>=1.15.0 in /Users/justinglibert/.local/share/virtualenvs/server-cczRqbdX/lib/python3.7/site-packages (from spacy>=2.2.2->en_core_web_lg==2.2.5) (1.18.0rc1)\n",
      "Requirement already satisfied: wasabi<1.1.0,>=0.4.0 in /Users/justinglibert/.local/share/virtualenvs/server-cczRqbdX/lib/python3.7/site-packages (from spacy>=2.2.2->en_core_web_lg==2.2.5) (0.4.2)\n",
      "Requirement already satisfied: catalogue<1.1.0,>=0.0.7 in /Users/justinglibert/.local/share/virtualenvs/server-cczRqbdX/lib/python3.7/site-packages (from spacy>=2.2.2->en_core_web_lg==2.2.5) (0.0.8)\n",
      "Requirement already satisfied: requests<3.0.0,>=2.13.0 in /Users/justinglibert/.local/share/virtualenvs/server-cczRqbdX/lib/python3.7/site-packages (from spacy>=2.2.2->en_core_web_lg==2.2.5) (2.22.0)\n",
      "Requirement already satisfied: thinc<7.4.0,>=7.3.0 in /Users/justinglibert/.local/share/virtualenvs/server-cczRqbdX/lib/python3.7/site-packages (from spacy>=2.2.2->en_core_web_lg==2.2.5) (7.3.1)\n",
      "Requirement already satisfied: importlib-metadata>=0.20; python_version < \"3.8\" in /Users/justinglibert/.local/share/virtualenvs/server-cczRqbdX/lib/python3.7/site-packages (from catalogue<1.1.0,>=0.0.7->spacy>=2.2.2->en_core_web_lg==2.2.5) (1.3.0)\n",
      "Requirement already satisfied: certifi>=2017.4.17 in /Users/justinglibert/.local/share/virtualenvs/server-cczRqbdX/lib/python3.7/site-packages (from requests<3.0.0,>=2.13.0->spacy>=2.2.2->en_core_web_lg==2.2.5) (2019.11.28)\n",
      "Requirement already satisfied: urllib3!=1.25.0,!=1.25.1,<1.26,>=1.21.1 in /Users/justinglibert/.local/share/virtualenvs/server-cczRqbdX/lib/python3.7/site-packages (from requests<3.0.0,>=2.13.0->spacy>=2.2.2->en_core_web_lg==2.2.5) (1.25.7)\n",
      "Requirement already satisfied: chardet<3.1.0,>=3.0.2 in /Users/justinglibert/.local/share/virtualenvs/server-cczRqbdX/lib/python3.7/site-packages (from requests<3.0.0,>=2.13.0->spacy>=2.2.2->en_core_web_lg==2.2.5) (3.0.4)\n",
      "Requirement already satisfied: idna<2.9,>=2.5 in /Users/justinglibert/.local/share/virtualenvs/server-cczRqbdX/lib/python3.7/site-packages (from requests<3.0.0,>=2.13.0->spacy>=2.2.2->en_core_web_lg==2.2.5) (2.8)\n",
      "Requirement already satisfied: tqdm<5.0.0,>=4.10.0 in /Users/justinglibert/.local/share/virtualenvs/server-cczRqbdX/lib/python3.7/site-packages (from thinc<7.4.0,>=7.3.0->spacy>=2.2.2->en_core_web_lg==2.2.5) (4.40.2)\n",
      "Requirement already satisfied: zipp>=0.5 in /Users/justinglibert/.local/share/virtualenvs/server-cczRqbdX/lib/python3.7/site-packages (from importlib-metadata>=0.20; python_version < \"3.8\"->catalogue<1.1.0,>=0.0.7->spacy>=2.2.2->en_core_web_lg==2.2.5) (0.6.0)\n",
      "Requirement already satisfied: more-itertools in /Users/justinglibert/.local/share/virtualenvs/server-cczRqbdX/lib/python3.7/site-packages (from zipp>=0.5->importlib-metadata>=0.20; python_version < \"3.8\"->catalogue<1.1.0,>=0.0.7->spacy>=2.2.2->en_core_web_lg==2.2.5) (8.0.2)\n",
      "Building wheels for collected packages: en-core-web-lg\n",
      "  Building wheel for en-core-web-lg (setup.py) ... \u001b[?25ldone\n",
      "\u001b[?25h  Created wheel for en-core-web-lg: filename=en_core_web_lg-2.2.5-cp37-none-any.whl size=829180945 sha256=f074a7a73bf2b376231f70e310d901a9512e7ab848075185d454fea5c730430c\n",
      "  Stored in directory: /private/var/folders/xy/93wzwgn579b9nnb78hvh7g740000gn/T/pip-ephem-wheel-cache-vuu911lc/wheels/2a/c1/a6/fc7a877b1efca9bc6a089d6f506f16d3868408f9ff89f8dbfc\n",
      "Successfully built en-core-web-lg\n",
      "Installing collected packages: en-core-web-lg\n",
      "Successfully installed en-core-web-lg-2.2.5\n",
      "\u001b[38;5;2m✔ Download and installation successful\u001b[0m\n",
      "You can now load the model via spacy.load('en_core_web_lg')\n"
     ]
    }
   ],
   "source": [
    "!python -m spacy download en_core_web_lg"
   ]
  },
  {
   "cell_type": "code",
   "execution_count": 174,
   "metadata": {},
   "outputs": [],
   "source": [
    "nlp = spacy.load('en_core_web_lg')"
   ]
  },
  {
   "cell_type": "code",
   "execution_count": 175,
   "metadata": {},
   "outputs": [],
   "source": [
    "quote_matcher = Matcher(nlp.vocab)\n",
    "quote_matcher.add('QUOTED', None, [{'ORTH': \"'\"}, {'IS_ALPHA': True, 'OP': '+'}, {'ORTH': \"'\"}])\n",
    "def quote_merger(doc):\n",
    "    # this will be called on the Doc object in the pipeline\n",
    "    matched_spans = []\n",
    "    matches = quote_matcher(doc)\n",
    "    for match_id, start, end in matches:\n",
    "        span = doc[start:end]\n",
    "        matched_spans.append(span)\n",
    "    for span in matched_spans:  # merge into one token after collecting all matches\n",
    "        span.merge()\n",
    "    return doc\n",
    "\n",
    "nlp.add_pipe(quote_merger, first=True)"
   ]
  },
  {
   "cell_type": "code",
   "execution_count": 187,
   "metadata": {},
   "outputs": [],
   "source": [
    "TEXTS = [\n",
    "#     \"You are Justin, a knight living in the kingdom of Izir. You have a steel longsword and a wooden shield. You are on a quest to defeat the evil dragon of Izir. You've heard he lives up at the north of the kingdom. You set on the path to defeat him and walk into a dark forest.\",\n",
    "#      \"You quickly grab your dagger and rush outside to meet your attackers. The first thing you notice is how many there are. They're all dead now though, so it must be a mistake. You head back inside and find that your servant has been killed\",\n",
    "#      \"You are Justin, a knight living in the kingdom of Izir. You have a steel longsword and a wooden shield. You are on a quest to defeat the evil dragon of Izir. You've heard he lives up at the north of the kingdom. You do not set on the path to defeat him and do not walk into a dark jail.\",\n",
    "#      \"You said \\\"You go to a forest\\\"\",\n",
    "#     \"You continue to climb up the mountain until you reach a steep hill\",\n",
    "#     \"Instead you walk through the gate and into the town of Castle Krakowice\",\n",
    "#     \"You run back into the forest\",\n",
    "#     \"You return to the forest\",\n",
    "#     \"When you arrive at the keep\",\n",
    "#     \"You decide to head back to the forest\",\n",
    "    \"You turn around and ride back to the mountain range.\"\n",
    "]"
   ]
  },
  {
   "cell_type": "code",
   "execution_count": 188,
   "metadata": {},
   "outputs": [],
   "source": [
    "# Quick experimentation to see if I can find stuff location\n",
    "LOCATIONS = [\"outside\", \"forest\", \"jail\", \"mountain\", \"town\", \"village\", \"keep\"]\n",
    "VERBS = [\"rush\", \"go\", \"enter\", \"ride\", \"arrive\", \"reach\", \"walk\", \"visit\", \"climb\", \"run\", \"return\", \"head\"]\n",
    "PREPOSITIONS = [\"to\", \"into\", \"across\", \"through\", \"over\", \"up\", \"back\", \"at\"]\n",
    "patterns = [ [{\"LEMMA\": x}] for x in LOCATIONS]"
   ]
  },
  {
   "cell_type": "code",
   "execution_count": 189,
   "metadata": {},
   "outputs": [],
   "source": [
    "from spacy.matcher import Matcher\n",
    "matcher = Matcher(nlp.vocab)"
   ]
  },
  {
   "cell_type": "code",
   "execution_count": 190,
   "metadata": {},
   "outputs": [],
   "source": [
    "matcher.add(\"LOCATION\", None, *patterns)"
   ]
  },
  {
   "cell_type": "code",
   "execution_count": 191,
   "metadata": {},
   "outputs": [],
   "source": [
    "def recursive_subject_search(head, subject):\n",
    "    is_you = False\n",
    "    subjs = [t for t in head.children if t.dep_ == \"nsubj\"]\n",
    "    if len(subjs) == 0:\n",
    "        while len(subjs) is 0:\n",
    "            head = head.head\n",
    "            subjs = [t for t in head.children if t.dep_ == \"nsubj\"]\n",
    "            if  head.head == head:\n",
    "                break\n",
    "    if subject in [s.text.lower() for s in subjs]:\n",
    "        return True"
   ]
  },
  {
   "cell_type": "code",
   "execution_count": 192,
   "metadata": {},
   "outputs": [],
   "source": [
    "def check_negation(head):\n",
    "    negations = [t for t in head.children if t.dep_ == \"neg\"]\n",
    "    return len(negations) > 0"
   ]
  },
  {
   "cell_type": "code",
   "execution_count": 195,
   "metadata": {
    "scrolled": true
   },
   "outputs": [
    {
     "name": "stdout",
     "output_type": "stream",
     "text": [
      "mountain\n",
      "range\n",
      "Locations for doc 1:  []\n"
     ]
    }
   ],
   "source": [
    "for i, t in enumerate(TEXTS):\n",
    "    doc = nlp(t)\n",
    "    matches = matcher(doc)\n",
    "    locations = []\n",
    "    for m, start, end in matches:\n",
    "        span = doc[start:end]\n",
    "        root = span.root\n",
    "        print(root)\n",
    "        print(root.head)\n",
    "        if root.head.pos_ == \"VERB\" and root.head.lemma_ in VERBS:\n",
    "            # Direct child of the verb easy\n",
    "            head = root.head\n",
    "            # check for negations\n",
    "            if not check_negation(head):\n",
    "                # now need to check if it's \"you\"\n",
    "                if recursive_subject_search(head, \"you\"):\n",
    "                    print(head.tag_)\n",
    "                    locations.append(span.root.lemma_)\n",
    "        elif root.dep_ in [\"pobj\"]:\n",
    "            print(root)\n",
    "            # into, through, acros <Location>\n",
    "            preposition = root.head\n",
    "            print(preposition)\n",
    "            if preposition.text in PREPOSITIONS:\n",
    "                # it's one of those!\n",
    "                # get the verb (hopefully)\n",
    "                head = preposition.head\n",
    "#                 print(head.dep_)\n",
    "                if head.pos_ == \"VERB\" and head.lemma_ in VERBS:\n",
    "                    if not check_negation(head):\n",
    "                        if recursive_subject_search(head, \"you\"):\n",
    "                            locations.append(span.root.lemma_)\n",
    "                elif (head.dep_ == \"prep\" or head.dep_ == \"advmod\") and head.text in PREPOSITIONS:\n",
    "                    head = head.head\n",
    "                    if head.pos_ == \"VERB\" and head.lemma_ in VERBS:\n",
    "                        if not check_negation(head):\n",
    "                            if recursive_subject_search(head, \"you\"):\n",
    "                                locations.append(span.root.lemma_)\n",
    "                \n",
    "    print(f\"Locations for doc {i+1}: \", locations)\n",
    "            "
   ]
  },
  {
   "cell_type": "code",
   "execution_count": 182,
   "metadata": {},
   "outputs": [],
   "source": [
    "doc = nlp(\"You set on the path to defeat him and walk into a dark forest.\")\n",
    "tok = [token for token in doc if token.dep_ == 'nsubj']"
   ]
  },
  {
   "cell_type": "code",
   "execution_count": 183,
   "metadata": {},
   "outputs": [],
   "source": [
    "t = tok[0]"
   ]
  },
  {
   "cell_type": "code",
   "execution_count": 184,
   "metadata": {},
   "outputs": [
    {
     "data": {
      "text/plain": [
       "[to, him, and, walk]"
      ]
     },
     "execution_count": 184,
     "metadata": {},
     "output_type": "execute_result"
    }
   ],
   "source": [
    "list(list(t.head.children)[2].children)"
   ]
  },
  {
   "cell_type": "code",
   "execution_count": 48,
   "metadata": {},
   "outputs": [
    {
     "data": {
      "text/plain": [
       "True"
      ]
     },
     "execution_count": 48,
     "metadata": {},
     "output_type": "execute_result"
    }
   ],
   "source": [
    "t.head == t.head.head"
   ]
  },
  {
   "cell_type": "code",
   "execution_count": null,
   "metadata": {},
   "outputs": [],
   "source": []
  }
 ],
 "metadata": {
  "kernelspec": {
   "display_name": "Python 3",
   "language": "python",
   "name": "python3"
  },
  "language_info": {
   "codemirror_mode": {
    "name": "ipython",
    "version": 3
   },
   "file_extension": ".py",
   "mimetype": "text/x-python",
   "name": "python",
   "nbconvert_exporter": "python",
   "pygments_lexer": "ipython3",
   "version": "3.7.5"
  }
 },
 "nbformat": 4,
 "nbformat_minor": 2
}
